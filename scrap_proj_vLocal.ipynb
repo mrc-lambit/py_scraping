{
 "cells": [
  {
   "cell_type": "markdown",
   "id": "ab691eca-32b4-4b5a-aaae-741038a217f6",
   "metadata": {},
   "source": [
    "# Scrap Proj"
   ]
  },
  {
   "cell_type": "markdown",
   "id": "37765bba-a1e0-40d6-916c-254a59bf6f80",
   "metadata": {},
   "source": [
    "## Goal"
   ]
  },
  {
   "cell_type": "markdown",
   "id": "6defb21b-3f5a-4384-bb31-586c4b63cdf3",
   "metadata": {},
   "source": [
    "Extract the following book information from the online library:\n",
    "\n",
    "-  title\n",
    "-  star rating\n",
    "-  price\n",
    "-  availability\n",
    "\n",
    "Organize data in a structured format and save it in a CSV file."
   ]
  },
  {
   "cell_type": "markdown",
   "id": "76029fa6-eb3b-4b43-ab1d-a4e655dae268",
   "metadata": {},
   "source": [
    "## Intro"
   ]
  },
  {
   "cell_type": "markdown",
   "id": "b74669f2-86ae-412c-94ea-bac1b097eb58",
   "metadata": {},
   "source": [
    "This project is managed in two different parallel ways, using the library for static websites BeautifulSoup or the library for dynamic websites Selenium"
   ]
  },
  {
   "cell_type": "markdown",
   "id": "29fbae51-a422-4620-b9e6-a52a220e2d88",
   "metadata": {},
   "source": [
    "The output will be different.<br/>\n",
    "In the 'availability' feature, the output of Selenium will display the total number of items that are currently in stock."
   ]
  },
  {
   "cell_type": "markdown",
   "id": "a18829f4-c86a-45d4-a62e-4ef85fa55245",
   "metadata": {},
   "source": [
    "## CODE"
   ]
  },
  {
   "cell_type": "code",
   "execution_count": null,
   "id": "662217b9-a655-418e-be17-62b6ff306113",
   "metadata": {},
   "outputs": [],
   "source": [
    "import os, zipfile\n",
    "import re\n",
    "import pandas as pd\n",
    "import requests\n",
    "from time import sleep"
   ]
  },
  {
   "cell_type": "code",
   "execution_count": null,
   "id": "795a9bca-9338-4b2b-92b3-fc07ce7eaa90",
   "metadata": {},
   "outputs": [],
   "source": [
    "notebook_path = os.path.abspath(\"scrap_proj.ipynb\")"
   ]
  },
  {
   "cell_type": "code",
   "execution_count": null,
   "id": "e15281b3-c961-4acc-bddd-6e3a1f2cf0bb",
   "metadata": {},
   "outputs": [],
   "source": [
    "def literal_to_number(n):\n",
    "    numbers = {\n",
    "        'zero':0,\n",
    "        'one':1,\n",
    "        'two':2,\n",
    "        'three':3,\n",
    "        'four':4,\n",
    "        'five':5\n",
    "    }\n",
    "    return numbers[n]"
   ]
  },
  {
   "cell_type": "code",
   "execution_count": null,
   "id": "68209a62-f8f1-42d3-8ec6-29b1ebc2ffbc",
   "metadata": {},
   "outputs": [],
   "source": [
    "literal_to_number('zero')"
   ]
  },
  {
   "cell_type": "markdown",
   "id": "9bf36454-576e-4ed1-a2a0-f58362813c7f",
   "metadata": {},
   "source": [
    "## Just Soup"
   ]
  },
  {
   "cell_type": "code",
   "execution_count": null,
   "id": "04267288-6ed7-49ed-b9c7-dd19632f20bc",
   "metadata": {},
   "outputs": [],
   "source": [
    "from bs4 import BeautifulSoup"
   ]
  },
  {
   "cell_type": "code",
   "execution_count": null,
   "id": "68c67ddf-ba38-4537-bce9-61117ab98414",
   "metadata": {
    "scrolled": true
   },
   "outputs": [],
   "source": [
    "headers = {'User-Agent':'Mozilla/5.0'}\n",
    "books = []\n",
    "\n",
    "for x in range(1,51):\n",
    "    urlx = f'https://books.toscrape.com/catalogue/page-{x}.html'\n",
    "\n",
    "    response = requests.get(urlx, headers=headers)\n",
    "    if(response.status_code==200):\n",
    "        \n",
    "        soup = BeautifulSoup(response.text, 'html.parser')\n",
    "        articles = soup.find_all('article', class_='product_pod')\n",
    "\n",
    "        for art in articles:\n",
    "\n",
    "            b = {\n",
    "                'title':art.find('h3').a['title'],\n",
    "                'rating':art.find('p', class_='star-rating').get('class')[1],\n",
    "                'price':art.find('p', class_='price_color').text,\n",
    "                'availability':art.find('p', class_='instock').text\n",
    "            }\n",
    "            books.append(b)\n",
    "            \n",
    "        print(f\"page {urlx} read\")\n",
    "        sleep(2)\n",
    "    else:\n",
    "        print(f'ERROR: Something wrong in page {x}. STATUS: {response.status_code}')\n"
   ]
  },
  {
   "cell_type": "code",
   "execution_count": null,
   "id": "32cc3ad9-5ade-4307-8332-344946407328",
   "metadata": {},
   "outputs": [],
   "source": [
    "for b in books:\n",
    "    \n",
    "    rating = literal_to_number(b['rating'].lower())\n",
    "    b['rating'] = f'{rating}/5'\n",
    "    b['price'] = re.sub(r\".\", \"\", b['price'], count=1)\n",
    "    b['availability'] = b['availability'].strip()"
   ]
  },
  {
   "cell_type": "markdown",
   "id": "2124ef12-eec1-445e-9983-90c4439d8d10",
   "metadata": {},
   "source": [
    "### Save csv"
   ]
  },
  {
   "cell_type": "code",
   "execution_count": null,
   "id": "09ce8492-0f73-4e1b-a0c7-ebedaeb3f0e0",
   "metadata": {},
   "outputs": [],
   "source": [
    "pd.DataFrame(books, columns=['title','rating','price','availability']).to_csv('books.csv', index=False)"
   ]
  },
  {
   "cell_type": "markdown",
   "id": "d4c81a88-7b51-45a8-a29f-adaca3bc6f17",
   "metadata": {},
   "source": [
    "## Just Selenium"
   ]
  },
  {
   "cell_type": "code",
   "execution_count": null,
   "id": "2e7e7e48-5e10-4843-ae0a-282ab6e4d8d1",
   "metadata": {},
   "outputs": [],
   "source": [
    "!pip install chromedriver-py"
   ]
  },
  {
   "cell_type": "code",
   "execution_count": null,
   "id": "5166e030-460e-4e32-b9b0-be44d3c65648",
   "metadata": {},
   "outputs": [],
   "source": [
    "from chromedriver_py import binary_path\n",
    "from selenium import webdriver\n",
    "from selenium.webdriver.common.by import By\n",
    "from selenium.webdriver.support.ui import WebDriverWait\n",
    "from selenium.webdriver.support import expected_conditions as EC"
   ]
  },
  {
   "cell_type": "code",
   "execution_count": null,
   "id": "8fbe7b1a-8103-4d08-801f-94f5e7d754d4",
   "metadata": {
    "scrolled": true
   },
   "outputs": [],
   "source": [
    "url = 'https://books.toscrape.com'\n",
    "\n",
    "try:\n",
    "    service = webdriver.ChromeService(executable_path=binary_path)\n",
    "    driver = webdriver.Chrome(service=service)\n",
    "except SessionNotCreatedException as e:\n",
    "    print(\"Something wrong. Session not created.\")\n",
    "\n",
    "driver.get(url)"
   ]
  },
  {
   "cell_type": "code",
   "execution_count": null,
   "id": "026bc968-9821-4c9f-bca6-63696d98222d",
   "metadata": {},
   "outputs": [],
   "source": [
    "books_list = []\n",
    "\n",
    "while True:\n",
    "    try:\n",
    "\n",
    "        arts = driver.find_elements(By.TAG_NAME, 'img')\n",
    "        \n",
    "        for index, art in enumerate(arts):\n",
    "\n",
    "            arts = driver.find_elements(By.TAG_NAME, 'img')\n",
    "            art = arts[index]\n",
    "            \n",
    "            art.click()\n",
    "    \n",
    "            b = {\n",
    "                'title': driver.find_element(By.TAG_NAME,'h1').text,\n",
    "                'rating':driver.find_element(By.CLASS_NAME, 'star-rating').get_attribute('class').split(' ')[1],\n",
    "                'price':driver.find_element(By.CLASS_NAME, 'price_color').text,\n",
    "                'availability':driver.find_element(By.CLASS_NAME,'availability').text\n",
    "            }\n",
    "            books_list.append(b)\n",
    "            \n",
    "            sleep(1)\n",
    "            driver.back()\n",
    "            sleep(1)\n",
    "\n",
    "        print(f\"Page {driver.current_url} read.\")\n",
    "        \n",
    "        button = driver.find_element(By.CLASS_NAME, 'next')\n",
    "        button.find_element(By.XPATH, \".//a\").click()\n",
    "        \n",
    "        print(f\"Landed to page {driver.current_url}\")\n",
    "        sleep(2)\n",
    "        \n",
    "    except Exception as e:\n",
    "        print(\"Something wrong, scraping interrupted.\")\n",
    "        print(\"Check the last page read.\")\n",
    "        break\n",
    "\n",
    "driver.quit()"
   ]
  },
  {
   "cell_type": "code",
   "execution_count": null,
   "id": "8bb71708-533e-4cae-8c43-a531af1d03d7",
   "metadata": {},
   "outputs": [],
   "source": [
    "for b in books_list:\n",
    "    \n",
    "    rating = literal_to_number(b['rating'])\n",
    "    b['rating'] = f'{rating}/5'\n",
    "    b['price'] = re.sub(r\".\", \"\", b['price'], count=1)\n",
    "    availability = re.search(r'\\d+', b['availability']).group()\n",
    "    b['availability'] = f'{availability} left in stock.'"
   ]
  },
  {
   "cell_type": "markdown",
   "id": "d58f3e5b-c9ca-47d5-96c8-1c4920ec96c8",
   "metadata": {},
   "source": [
    "### Save csv"
   ]
  },
  {
   "cell_type": "code",
   "execution_count": null,
   "id": "4c2d6f1f-2b21-4ad2-807f-bd48b87e1cb0",
   "metadata": {},
   "outputs": [],
   "source": [
    "pd.DataFrame(books_list, columns=['title','rating','price','availability']).to_csv('books.csv', index=False)"
   ]
  }
 ],
 "metadata": {
  "kernelspec": {
   "display_name": "Python 3 (ipykernel)",
   "language": "python",
   "name": "python3"
  },
  "language_info": {
   "codemirror_mode": {
    "name": "ipython",
    "version": 3
   },
   "file_extension": ".py",
   "mimetype": "text/x-python",
   "name": "python",
   "nbconvert_exporter": "python",
   "pygments_lexer": "ipython3",
   "version": "3.9.13"
  }
 },
 "nbformat": 4,
 "nbformat_minor": 5
}
