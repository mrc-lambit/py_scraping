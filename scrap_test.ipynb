{
 "cells": [
  {
   "cell_type": "code",
   "execution_count": null,
   "id": "e183b80b-fe8d-4ab0-be12-6a23041378b8",
   "metadata": {},
   "outputs": [],
   "source": [
    "# Static\n",
    "import requests\n",
    "from bs4 import BeautifulSoup\n",
    "\n",
    "# Dinamic\n",
    "from selenium import webdriver\n",
    "from selenium.webdriver.common.by import By\n",
    "from selenium.webdriver.support.ui import WebDriverWait\n",
    "from selenium.webdriver.support import expected_conditions as EC"
   ]
  },
  {
   "cell_type": "markdown",
   "id": "1f60f295-abe5-4146-a108-63b3f685afe4",
   "metadata": {},
   "source": [
    "# BeautifulSoup"
   ]
  },
  {
   "cell_type": "markdown",
   "id": "3d956860-c2e9-4f6d-928d-b0fa1840d619",
   "metadata": {},
   "source": [
    "## Es 1"
   ]
  },
  {
   "cell_type": "code",
   "execution_count": null,
   "id": "6d48de46-65a5-4c48-ab4c-4ff9efde0579",
   "metadata": {},
   "outputs": [],
   "source": [
    "headers = {'User-Agent':'Mozilla/5.0'}\n",
    "url = 'http://www.scrapethissite.com/pages/simple/'\n",
    "response = requests.get(url, headers=headers)"
   ]
  },
  {
   "cell_type": "code",
   "execution_count": null,
   "id": "457dde79-bc2f-4756-b0d9-76d64e479c0a",
   "metadata": {},
   "outputs": [],
   "source": [
    "status = response.status_code\n",
    "html_doc = response.text"
   ]
  },
  {
   "cell_type": "code",
   "execution_count": null,
   "id": "33743655-872f-428c-b8d1-ae76a4709024",
   "metadata": {},
   "outputs": [],
   "source": [
    "soup = BeautifulSoup(html_doc, 'html.parser')"
   ]
  },
  {
   "cell_type": "code",
   "execution_count": null,
   "id": "0fb25b4c-345b-4031-aae2-a7c4603b8ea9",
   "metadata": {},
   "outputs": [],
   "source": [
    "print(soup.prettify())"
   ]
  },
  {
   "cell_type": "code",
   "execution_count": null,
   "id": "0f7de39d-cb7f-4570-83bd-4720c01f475e",
   "metadata": {},
   "outputs": [],
   "source": [
    "titles = soup.find_all('h1')\n",
    "titles[0].text.strip().split('\\n')[0]"
   ]
  },
  {
   "cell_type": "code",
   "execution_count": null,
   "id": "3653d562-b974-4115-becb-ac7a6176f8dc",
   "metadata": {},
   "outputs": [],
   "source": [
    "meta_robots = soup.find('meta', attrs={'name':'robots'})\n",
    "\n",
    "if meta_robots:\n",
    "    if 'noindex' in meta_robots.get('content').lower():\n",
    "        print('page no indexed')\n",
    "else:\n",
    "    print('page could be indexed')"
   ]
  },
  {
   "cell_type": "code",
   "execution_count": null,
   "id": "7a179e3e-0385-4e85-b556-4b688c197c4f",
   "metadata": {},
   "outputs": [],
   "source": [
    "nations = []\n",
    "for c in soup.find_all('div', class_='col-md-4 country'):\n",
    "    country = {\n",
    "        'name':c.h3.text.strip(),\n",
    "        'capital':c.find('span',class_='country-capital').text,\n",
    "        'population':c.find('span',class_='country-population').text,\n",
    "        'area':c.find('span',class_='country-area').text\n",
    "    }\n",
    "    nations.append(country)\n",
    "\n",
    "nations"
   ]
  },
  {
   "cell_type": "code",
   "execution_count": null,
   "id": "3667b733-24a0-46ea-a69a-13b8ea5fa6b6",
   "metadata": {},
   "outputs": [],
   "source": [
    "# some features utils\n",
    "\n",
    "soup.head.title\n",
    "\n",
    "# extract attribute\n",
    "link = soup.find_all('a')[1]\n",
    "link['href']\n",
    "\n",
    "link.parent\n",
    "\n",
    "soup.find('p').contents"
   ]
  },
  {
   "cell_type": "markdown",
   "id": "91c0ff3e-8d78-454e-884e-807728bfa2bc",
   "metadata": {},
   "source": [
    "# Selenium"
   ]
  },
  {
   "cell_type": "code",
   "execution_count": null,
   "id": "f0e72a0c-98ae-49f0-8edf-201df251ae4f",
   "metadata": {},
   "outputs": [],
   "source": [
    "#options_f = webdriver.FirefoxOptions()\n",
    "#driver_f = webdriver.Firefox(options=options_f)\n",
    "\n",
    "options_c = webdriver.ChromeOptions()\n",
    "driver_c = webdriver.Chrome(options=options_c)\n",
    "\n",
    "#download:  'https://chromedriver.storage.googleapis.com/index.html?path=114.0.5735.90/'\n",
    "#service_c = webdriver.ChromeService('path')\n",
    "#driver_c = webdriver.Chrome(service=service_c)"
   ]
  },
  {
   "cell_type": "code",
   "execution_count": null,
   "id": "606c44f3-6072-4bdb-b9d9-62c3228207dc",
   "metadata": {},
   "outputs": [],
   "source": [
    "driver_c.get('https://books.toscrape.com/')\n",
    "\n",
    "driver_c.title\n",
    "\n",
    "driver_c.quit()"
   ]
  },
  {
   "cell_type": "code",
   "execution_count": null,
   "id": "ba2d090a-c049-4e7f-b63d-ad568feca6d2",
   "metadata": {},
   "outputs": [],
   "source": [
    "# examples\n",
    "element = WebDriverWait(driver_c, 10).until(\n",
    "    EC.presence_of_element_located((By.TAG_NAME, 'a'))\n",
    ")"
   ]
  },
  {
   "cell_type": "markdown",
   "id": "22e0c387-610b-46ac-ba8d-b7b7fb126e86",
   "metadata": {},
   "source": [
    "## Es 2"
   ]
  },
  {
   "cell_type": "code",
   "execution_count": null,
   "id": "aee930cb-84e2-423d-9ab8-562dae460ba6",
   "metadata": {},
   "outputs": [],
   "source": [
    "options_c = webdriver.ChromeOptions()\n",
    "driver_c = webdriver.Chrome(options=options_c)"
   ]
  },
  {
   "cell_type": "code",
   "execution_count": null,
   "id": "980a573b-8f25-47c8-9340-61601dbe1294",
   "metadata": {},
   "outputs": [],
   "source": [
    "url = 'http://www.scrapethissite.com/pages/ajax-javascript/'\n",
    "\n",
    "driver_c.get(url)"
   ]
  },
  {
   "cell_type": "code",
   "execution_count": null,
   "id": "97e2e5dd-6dbc-46c0-a189-db277f3c10d9",
   "metadata": {},
   "outputs": [],
   "source": [
    "WebDriverWait(driver_c, 10).until(\n",
    "    EC.element_to_be_clickable((By.ID, '2015'))\n",
    ").click()"
   ]
  },
  {
   "cell_type": "code",
   "execution_count": null,
   "id": "fb3618af-0e47-458f-baad-b943aac5bf6f",
   "metadata": {
    "scrolled": true
   },
   "outputs": [],
   "source": [
    "WebDriverWait(driver_c, 10).until(\n",
    "    EC.visibility_of_all_elements_located((By.CLASS_NAME, 'film'))\n",
    ")"
   ]
  },
  {
   "cell_type": "code",
   "execution_count": null,
   "id": "ec46189e-fec8-408a-881f-6bac59cdeb4c",
   "metadata": {},
   "outputs": [],
   "source": [
    "films = driver_c.find_elements(By.CLASS_NAME, 'film')"
   ]
  },
  {
   "cell_type": "code",
   "execution_count": null,
   "id": "77198a0a-6e9d-4f6d-9c3c-eac40ae78c43",
   "metadata": {
    "scrolled": true
   },
   "outputs": [],
   "source": [
    "film_list = []\n",
    "for f in films:\n",
    "    film = {\n",
    "        'title':f.find_element(By.CLASS_NAME,'film-title').text,\n",
    "        'awards':f.find_element(By.CLASS_NAME,'film-awards').text\n",
    "    }\n",
    "    film_list.append(film)\n",
    "\n",
    "film_list"
   ]
  },
  {
   "cell_type": "markdown",
   "id": "ba1023a0-a8c7-4c71-b96f-5c98f61cbf69",
   "metadata": {},
   "source": [
    "## Es 3"
   ]
  },
  {
   "cell_type": "code",
   "execution_count": null,
   "id": "60dfab43-6bec-477c-a29a-48f1c4c24d73",
   "metadata": {},
   "outputs": [],
   "source": [
    "import requests\n",
    "from bs4 import BeautifulSoup\n",
    "import time # ritarda scraping tra una pagina e l'altra"
   ]
  },
  {
   "cell_type": "code",
   "execution_count": null,
   "id": "f6a2cfca-28b1-480c-b101-e1df25c8bb28",
   "metadata": {
    "scrolled": true
   },
   "outputs": [],
   "source": [
    "# options_c = webdriver.ChromeOptions()\n",
    "# driver_c = webdriver.Chrome(options=options_c)\n",
    "\n",
    "url = 'http://quotes.toscrape.com'\n",
    "headers = {'User-Agent':'Mozilla/5.0'}\n",
    "quotes = []\n",
    "\n",
    "for i in range(1,6):\n",
    "    urlx = f\"{url}/page/{i}\"\n",
    "    response = requests.get(urlx, headers=headers)\n",
    "    if(response.status_code==200):\n",
    "        soup = BeautifulSoup(response.text, 'html.parser')\n",
    "        quote_div = soup.find_all('div', class_='quote')\n",
    "        \n",
    "        for div in quote_div:\n",
    "            q = {\n",
    "                'author':div.find('small', class_='author').text,\n",
    "                'quote':div.find('span', class_='text').text,\n",
    "            }\n",
    "            quotes.append(q)\n",
    "    \n",
    "        print(f\"page {urlx} read\")\n",
    "        time.sleep(3)\n",
    "    else:\n",
    "        print(f'ERROR: Something wrong in page {i}. STATUS: {response.status_code}')\n",
    "# quotes"
   ]
  },
  {
   "cell_type": "code",
   "execution_count": null,
   "id": "108e34bd-13d4-4e19-b86a-ec672395e29a",
   "metadata": {},
   "outputs": [],
   "source": [
    "len(quotes)"
   ]
  },
  {
   "cell_type": "markdown",
   "id": "97032ff2-ff3a-4300-914b-ecddde20ea61",
   "metadata": {},
   "source": [
    "### Save CSV"
   ]
  },
  {
   "cell_type": "code",
   "execution_count": null,
   "id": "b45613c2-d977-4096-a893-d5a20a463f1b",
   "metadata": {},
   "outputs": [],
   "source": [
    "import pandas as pd\n",
    "\n",
    "df = pd.DataFrame(quotes, columns=['author','quote'])\n",
    "df.to_csv('quotes.csv', index=False)"
   ]
  },
  {
   "cell_type": "markdown",
   "id": "9d35735e-5242-49e5-8f46-647e5d2736e5",
   "metadata": {},
   "source": [
    "### Save JSON"
   ]
  },
  {
   "cell_type": "code",
   "execution_count": null,
   "id": "5702f38f-ff02-45af-a25d-f1a04d2750d4",
   "metadata": {},
   "outputs": [],
   "source": [
    "import json\n",
    "\n",
    "with open('quotes.json','w', encoding='utf-8') as file:\n",
    "    json.dump(quotes, file, ensure_ascii=False, indent=4)"
   ]
  },
  {
   "cell_type": "markdown",
   "id": "b5af474d-9144-48cd-afbc-1030aa91fef3",
   "metadata": {},
   "source": [
    "### Save SQLite"
   ]
  },
  {
   "cell_type": "code",
   "execution_count": null,
   "id": "c89a7dec-7fae-4512-916e-e637a1b97d25",
   "metadata": {},
   "outputs": [],
   "source": [
    "import sqlite3"
   ]
  },
  {
   "cell_type": "code",
   "execution_count": null,
   "id": "61d309be-80f1-4e62-a846-98c7d03b1b50",
   "metadata": {},
   "outputs": [],
   "source": [
    "conn = sqlite3.connect('database.db')\n",
    "c = conn.cursor()\n",
    "\n",
    "# Create table\n",
    "c.execute(\"CREATE TABLE QUOTES( author text, quote text )\")\n",
    "\n",
    "for q in quotes:\n",
    "    c.execute(f\"INSERT INTO QUOTES VALUES ({q['author']}, {q['quote']})\")\n",
    "\n",
    "conn.commit()\n",
    "conn.close()"
   ]
  }
 ],
 "metadata": {
  "kernelspec": {
   "display_name": "Python 3 (ipykernel)",
   "language": "python",
   "name": "python3"
  },
  "language_info": {
   "codemirror_mode": {
    "name": "ipython",
    "version": 3
   },
   "file_extension": ".py",
   "mimetype": "text/x-python",
   "name": "python",
   "nbconvert_exporter": "python",
   "pygments_lexer": "ipython3",
   "version": "3.9.13"
  }
 },
 "nbformat": 4,
 "nbformat_minor": 5
}
