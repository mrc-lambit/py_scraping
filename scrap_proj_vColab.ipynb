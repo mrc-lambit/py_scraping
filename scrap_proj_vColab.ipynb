{
 "cells": [
  {
   "cell_type": "markdown",
   "id": "ab691eca-32b4-4b5a-aaae-741038a217f6",
   "metadata": {
    "id": "ab691eca-32b4-4b5a-aaae-741038a217f6"
   },
   "source": [
    "# Scrap Proj"
   ]
  },
  {
   "cell_type": "markdown",
   "id": "37765bba-a1e0-40d6-916c-254a59bf6f80",
   "metadata": {
    "id": "37765bba-a1e0-40d6-916c-254a59bf6f80"
   },
   "source": [
    "## Goal"
   ]
  },
  {
   "cell_type": "markdown",
   "id": "6defb21b-3f5a-4384-bb31-586c4b63cdf3",
   "metadata": {
    "id": "6defb21b-3f5a-4384-bb31-586c4b63cdf3",
    "jupyter": {
     "source_hidden": true
    }
   },
   "source": [
    "Extract the following book information from the online library:\n",
    "\n",
    "-  title\n",
    "-  star rating\n",
    "-  price\n",
    "-  availability\n",
    "\n",
    "Organize data in a structured format and save it in a CSV file."
   ]
  },
  {
   "cell_type": "markdown",
   "id": "76029fa6-eb3b-4b43-ab1d-a4e655dae268",
   "metadata": {
    "id": "76029fa6-eb3b-4b43-ab1d-a4e655dae268"
   },
   "source": [
    "## Intro"
   ]
  },
  {
   "cell_type": "markdown",
   "id": "b74669f2-86ae-412c-94ea-bac1b097eb58",
   "metadata": {
    "id": "b74669f2-86ae-412c-94ea-bac1b097eb58"
   },
   "source": [
    "This project is managed in two different parallel ways, using the library for static websites BeautifulSoup or the library for dynamic websites Selenium"
   ]
  },
  {
   "cell_type": "markdown",
   "id": "29fbae51-a422-4620-b9e6-a52a220e2d88",
   "metadata": {
    "id": "29fbae51-a422-4620-b9e6-a52a220e2d88"
   },
   "source": [
    "The output will be different.<br/>\n",
    "In the 'availability' feature, the output of Selenium will display the total number of items that are currently in stock."
   ]
  },
  {
   "cell_type": "markdown",
   "id": "a18829f4-c86a-45d4-a62e-4ef85fa55245",
   "metadata": {
    "id": "a18829f4-c86a-45d4-a62e-4ef85fa55245"
   },
   "source": [
    "## CODE"
   ]
  },
  {
   "cell_type": "code",
   "execution_count": null,
   "id": "662217b9-a655-418e-be17-62b6ff306113",
   "metadata": {
    "id": "662217b9-a655-418e-be17-62b6ff306113"
   },
   "outputs": [],
   "source": [
    "import os, zipfile\n",
    "import re\n",
    "import pandas as pd\n",
    "import requests"
   ]
  },
  {
   "cell_type": "code",
   "execution_count": null,
   "id": "Ae1To_PhP-jc",
   "metadata": {
    "id": "Ae1To_PhP-jc"
   },
   "outputs": [],
   "source": [
    "from bs4 import BeautifulSoup\n",
    "from time import sleep"
   ]
  },
  {
   "cell_type": "markdown",
   "id": "L0lTw8HBSeV0",
   "metadata": {
    "id": "L0lTw8HBSeV0"
   },
   "source": [
    "Cell to be run on colab to import selenium"
   ]
  },
  {
   "cell_type": "code",
   "execution_count": null,
   "id": "K51B_hVaLnRl",
   "metadata": {
    "colab": {
     "base_uri": "https://localhost:8080/"
    },
    "id": "K51B_hVaLnRl",
    "outputId": "86ed2931-90c4-4537-bcf8-cf69284b96fa"
   },
   "outputs": [],
   "source": [
    "# Set up for running selenium in Google Colab\n",
    "## You don't need to run this code if you do it in Jupyter notebook, or other local Python setting\n",
    "%%shell\n",
    "sudo apt -y update\n",
    "sudo apt install -y wget curl unzip\n",
    "wget http://archive.ubuntu.com/ubuntu/pool/main/libu/libu2f-host/libu2f-udev_1.1.4-1_all.deb\n",
    "dpkg -i libu2f-udev_1.1.4-1_all.deb\n",
    "wget https://dl.google.com/linux/direct/google-chrome-stable_current_amd64.deb\n",
    "dpkg -i google-chrome-stable_current_amd64.deb\n",
    "CHROME_DRIVER_VERSION=`curl -sS chromedriver.storage.googleapis.com/LATEST_RELEASE`\n",
    "wget -N https://chromedriver.storage.googleapis.com/$CHROME_DRIVER_VERSION/chromedriver_linux64.zip -P /tmp/\n",
    "unzip -o /tmp/chromedriver_linux64.zip -d /tmp/\n",
    "chmod +x /tmp/chromedriver\n",
    "mv /tmp/chromedriver /usr/local/bin/chromedriver\n",
    "pip install selenium"
   ]
  },
  {
   "cell_type": "code",
   "execution_count": null,
   "id": "cs0zHseoLu7X",
   "metadata": {
    "colab": {
     "base_uri": "https://localhost:8080/"
    },
    "id": "cs0zHseoLu7X",
    "outputId": "82cff57d-120a-448f-a93b-d230602d6906"
   },
   "outputs": [],
   "source": [
    "!pip install chromedriver-autoinstaller"
   ]
  },
  {
   "cell_type": "code",
   "execution_count": null,
   "id": "0SM4BNTuP99n",
   "metadata": {
    "id": "0SM4BNTuP99n"
   },
   "outputs": [],
   "source": [
    "from selenium import webdriver\n",
    "import chromedriver_autoinstaller\n",
    "\n",
    "from selenium.webdriver.common.by import By\n",
    "from selenium.webdriver.support.ui import WebDriverWait\n",
    "from selenium.webdriver.support import expected_conditions as EC"
   ]
  },
  {
   "cell_type": "code",
   "execution_count": null,
   "id": "795a9bca-9338-4b2b-92b3-fc07ce7eaa90",
   "metadata": {
    "id": "795a9bca-9338-4b2b-92b3-fc07ce7eaa90"
   },
   "outputs": [],
   "source": [
    "notebook_path = os.path.abspath(\"scrap_proj.ipynb\")"
   ]
  },
  {
   "cell_type": "code",
   "execution_count": null,
   "id": "e15281b3-c961-4acc-bddd-6e3a1f2cf0bb",
   "metadata": {
    "id": "e15281b3-c961-4acc-bddd-6e3a1f2cf0bb"
   },
   "outputs": [],
   "source": [
    "def literal_to_number(n):\n",
    "\n",
    "    numbers = {\n",
    "        'Zero':0,\n",
    "        'One':1,\n",
    "        'Two':2,\n",
    "        'Three':3,\n",
    "        'Four':4,\n",
    "        'Five':5\n",
    "    }\n",
    "\n",
    "    return numbers[n]"
   ]
  },
  {
   "cell_type": "markdown",
   "id": "9bf36454-576e-4ed1-a2a0-f58362813c7f",
   "metadata": {
    "id": "9bf36454-576e-4ed1-a2a0-f58362813c7f"
   },
   "source": [
    "## Just Soup"
   ]
  },
  {
   "cell_type": "code",
   "execution_count": null,
   "id": "68c67ddf-ba38-4537-bce9-61117ab98414",
   "metadata": {
    "colab": {
     "base_uri": "https://localhost:8080/"
    },
    "id": "68c67ddf-ba38-4537-bce9-61117ab98414",
    "outputId": "2ab01209-2490-4f4d-bd16-8562ddeaeddb",
    "scrolled": true
   },
   "outputs": [],
   "source": [
    "headers = {'User-Agent':'Mozilla/5.0'}\n",
    "books = []\n",
    "\n",
    "for x in range(1,51):\n",
    "\n",
    "    urlx = f'https://books.toscrape.com/catalogue/page-{x}.html'\n",
    "\n",
    "    response = requests.get(urlx, headers=headers)\n",
    "\n",
    "    if(response.status_code==200):\n",
    "\n",
    "        soup = BeautifulSoup(response.text, 'html.parser')\n",
    "        articles = soup.find_all('article', class_='product_pod')\n",
    "\n",
    "        for art in articles:\n",
    "\n",
    "            b = {\n",
    "                'title':art.find('h3').a['title'],\n",
    "                'rating':art.find('p', class_='star-rating').get('class')[1],\n",
    "                'price':art.find('p', class_='price_color').text,\n",
    "                'availability':art.find('p', class_='instock').text\n",
    "            }\n",
    "\n",
    "            books.append(b)\n",
    "\n",
    "        print(f'page {urlx} read')\n",
    "        sleep(2)\n",
    "\n",
    "    else:\n",
    "\n",
    "        print(f'ERROR: Something wrong in page {x}. STATUS: {response.status_code}')\n"
   ]
  },
  {
   "cell_type": "code",
   "execution_count": null,
   "id": "32cc3ad9-5ade-4307-8332-344946407328",
   "metadata": {
    "id": "32cc3ad9-5ade-4307-8332-344946407328"
   },
   "outputs": [],
   "source": [
    "for b in books:\n",
    "\n",
    "    rating = literal_to_number(b['rating'])\n",
    "\n",
    "    b['rating'] = f'{rating}/5'\n",
    "    b['price'] = re.sub(r\".\", \"\", b['price'], count=1)\n",
    "    b['availability'] = b['availability'].strip()"
   ]
  },
  {
   "cell_type": "markdown",
   "id": "2124ef12-eec1-445e-9983-90c4439d8d10",
   "metadata": {
    "id": "2124ef12-eec1-445e-9983-90c4439d8d10"
   },
   "source": [
    "### Save csv"
   ]
  },
  {
   "cell_type": "code",
   "execution_count": null,
   "id": "09ce8492-0f73-4e1b-a0c7-ebedaeb3f0e0",
   "metadata": {
    "id": "09ce8492-0f73-4e1b-a0c7-ebedaeb3f0e0"
   },
   "outputs": [],
   "source": [
    "pd.DataFrame(books, columns=['title','rating','price','availability']).to_csv('books.csv', index=False)"
   ]
  },
  {
   "cell_type": "code",
   "execution_count": null,
   "id": "MxNMoIvSFA3m",
   "metadata": {
    "colab": {
     "base_uri": "https://localhost:8080/",
     "height": 17
    },
    "id": "MxNMoIvSFA3m",
    "outputId": "35f23cef-b524-48ae-d094-07fa83524508"
   },
   "outputs": [],
   "source": [
    "from google.colab import files\n",
    "\n",
    "files.download('books.csv')"
   ]
  },
  {
   "cell_type": "markdown",
   "id": "d4c81a88-7b51-45a8-a29f-adaca3bc6f17",
   "metadata": {
    "id": "d4c81a88-7b51-45a8-a29f-adaca3bc6f17"
   },
   "source": [
    "## Just Selenium"
   ]
  },
  {
   "cell_type": "markdown",
   "id": "c66c104d-4d6d-4679-bbb9-59595f419384",
   "metadata": {
    "id": "c66c104d-4d6d-4679-bbb9-59595f419384"
   },
   "source": [
    "WARNING: Selenium section can not works properly on colab due to chromedriver exception."
   ]
  },
  {
   "cell_type": "markdown",
   "id": "398b64d2-a3d3-4958-9912-ab05497deeb7",
   "metadata": {
    "id": "398b64d2-a3d3-4958-9912-ab05497deeb7"
   },
   "source": [
    "Optional method to download chromedriver (version 114.0.5735.90) for win32 and linux64"
   ]
  },
  {
   "cell_type": "code",
   "execution_count": null,
   "id": "08373f20-5556-4679-8b25-d4a75be74b2e",
   "metadata": {
    "id": "08373f20-5556-4679-8b25-d4a75be74b2e"
   },
   "outputs": [],
   "source": [
    "def check_service(system):\n",
    "    \"\"\"\n",
    "    check if service file exists, if not it is created.\n",
    "    \"\"\"\n",
    "\n",
    "    if(system == 0):\n",
    "        download = 'https://chromedriver.storage.googleapis.com/114.0.5735.90/chromedriver_linux64.zip'\n",
    "        path_service = './chromedriver_linux64.zip'\n",
    "        !chmod +x chromedriver\n",
    "\n",
    "    elif(system == 1):\n",
    "        download = 'https://chromedriver.storage.googleapis.com/114.0.5735.90/chromedriver_win32.zip'\n",
    "        path_service = './chromedriver_win32.zip'\n",
    "\n",
    "    else:\n",
    "        print(\"We don't have a service for you. Try with chromedriver_py.\")\n",
    "        return webdriver.ChromeService(executable_path=binary_path)\n",
    "\n",
    "\n",
    "    if (not os.path.exists(path_service)):\n",
    "\n",
    "        response = requests.get(download)\n",
    "\n",
    "        if (response.status_code == 200):\n",
    "            with open(path_service, 'wb') as file:\n",
    "                file.write(response.content)\n",
    "\n",
    "            if(system in [0,1]):\n",
    "                with zipfile.ZipFile(path_service, 'r') as zip_ref:\n",
    "                    zip_ref.extractall('./')\n",
    "\n",
    "                print(f\"Service not found. {path_service} created.\")\n",
    "\n",
    "        else:\n",
    "\n",
    "            print(\"service download not possible.\")\n",
    "\n",
    "    else:\n",
    "\n",
    "        print(\"service found.\")\n",
    "\n",
    "    if(system == 0):\n",
    "\n",
    "        return webdriver.ChromeService(executable_path='./chromedriver')\n",
    "\n",
    "    elif(system == 1):\n",
    "\n",
    "        return webdriver.ChromeService(executable_path='./chromedriver.exe')\n"
   ]
  },
  {
   "cell_type": "code",
   "execution_count": null,
   "id": "8fbe7b1a-8103-4d08-801f-94f5e7d754d4",
   "metadata": {
    "id": "8fbe7b1a-8103-4d08-801f-94f5e7d754d4",
    "scrolled": true
   },
   "outputs": [],
   "source": [
    "url = 'https://books.toscrape.com'\n",
    "\n",
    "try:\n",
    "\n",
    "    # setup chrome options\n",
    "    chrome_options = webdriver.ChromeOptions()\n",
    "    chrome_options.add_argument('--headless') # ensure GUI is off\n",
    "    chrome_options.add_argument('--no-sandbox')\n",
    "    chrome_options.add_argument('--disable-dev-shm-usage')\n",
    "\n",
    "    # set path to chromedriver as per your configuration\n",
    "    chromedriver_autoinstaller.install()\n",
    "\n",
    "    # set up the webdriver\n",
    "    driver = webdriver.Chrome(options=chrome_options)\n",
    "\n",
    "except SessionNotCreatedException as e:\n",
    "\n",
    "    print(\"Something wrong. Session not created.\")\n",
    "\n",
    "except ConnectionRefusedError as e:\n",
    "\n",
    "    print(\"Something wrong. Connection has been refused.\")\n",
    "\n",
    "\n",
    "driver.get(url)"
   ]
  },
  {
   "cell_type": "code",
   "execution_count": null,
   "id": "026bc968-9821-4c9f-bca6-63696d98222d",
   "metadata": {
    "id": "026bc968-9821-4c9f-bca6-63696d98222d"
   },
   "outputs": [],
   "source": [
    "books_list = []\n",
    "\n",
    "while True:\n",
    "\n",
    "    try:\n",
    "        arts = driver.find_elements(By.TAG_NAME, 'img')\n",
    "\n",
    "        for index, art in enumerate(arts):\n",
    "\n",
    "            arts = driver.find_elements(By.TAG_NAME, 'img')\n",
    "\n",
    "            art = arts[index]\n",
    "\n",
    "            sleep(1)\n",
    "            art.click()\n",
    "\n",
    "            b = {\n",
    "                'title': driver.find_element(By.TAG_NAME,'h1').text,\n",
    "                'rating':driver.find_element(By.CLASS_NAME, 'star-rating').get_attribute('class').split(' ')[1],\n",
    "                'price':driver.find_element(By.CLASS_NAME, 'price_color').text,\n",
    "                'availability':driver.find_element(By.CLASS_NAME,'availability').text\n",
    "            }\n",
    "            books_list.append(b)\n",
    "\n",
    "            sleep(1)\n",
    "            driver.back()\n",
    "            sleep(1)\n",
    "\n",
    "        print(f\"Page {driver.current_url} read.\")\n",
    "\n",
    "        button = driver.find_element(By.CLASS_NAME, 'next')\n",
    "        button.find_element(By.XPATH, \".//a\").click()\n",
    "\n",
    "        print(f\"Landed to page {driver.current_url}\")\n",
    "\n",
    "    except Exception as e:\n",
    "\n",
    "        print(\"Something wrong, scraping interrupted.\")\n",
    "        print(\"Check the last page read.\")\n",
    "        break\n",
    "\n",
    "\n",
    "driver.quit()"
   ]
  },
  {
   "cell_type": "code",
   "execution_count": null,
   "id": "8bb71708-533e-4cae-8c43-a531af1d03d7",
   "metadata": {
    "colab": {
     "base_uri": "https://localhost:8080/",
     "height": 306
    },
    "id": "8bb71708-533e-4cae-8c43-a531af1d03d7",
    "outputId": "f1e203da-f1db-4010-b210-af0c87a8e379"
   },
   "outputs": [],
   "source": [
    "for b in books_list:\n",
    "\n",
    "    rating = literal_to_number(b['rating'])\n",
    "    b['rating'] = f'{rating}/5'\n",
    "    b['price'] = re.sub(r\".\", \"\", b['price'], count=1)\n",
    "    availability = re.search(r'\\d+', b['availability']).group()\n",
    "    b['availability'] = f'{availability} left in stock.'"
   ]
  },
  {
   "cell_type": "markdown",
   "id": "d58f3e5b-c9ca-47d5-96c8-1c4920ec96c8",
   "metadata": {
    "id": "d58f3e5b-c9ca-47d5-96c8-1c4920ec96c8"
   },
   "source": [
    "### Save csv"
   ]
  },
  {
   "cell_type": "code",
   "execution_count": null,
   "id": "4c2d6f1f-2b21-4ad2-807f-bd48b87e1cb0",
   "metadata": {
    "id": "4c2d6f1f-2b21-4ad2-807f-bd48b87e1cb0"
   },
   "outputs": [],
   "source": [
    "pd.DataFrame(books_list, columns=['title','rating','price','availability']).to_csv('books.csv', index=False)"
   ]
  }
 ],
 "metadata": {
  "colab": {
   "provenance": []
  },
  "kernelspec": {
   "display_name": "Python 3 (ipykernel)",
   "language": "python",
   "name": "python3"
  },
  "language_info": {
   "codemirror_mode": {
    "name": "ipython",
    "version": 3
   },
   "file_extension": ".py",
   "mimetype": "text/x-python",
   "name": "python",
   "nbconvert_exporter": "python",
   "pygments_lexer": "ipython3",
   "version": "3.9.13"
  }
 },
 "nbformat": 4,
 "nbformat_minor": 5
}
