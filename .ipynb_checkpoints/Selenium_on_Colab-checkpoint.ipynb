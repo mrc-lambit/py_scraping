{
 "cells": [
  {
   "cell_type": "markdown",
   "metadata": {
    "id": "Dac23RhNmFj7"
   },
   "source": [
    "Tutorial preso da: https://nariyoo.com/python-how-to-run-selenium-in-google-colab/"
   ]
  },
  {
   "cell_type": "markdown",
   "metadata": {
    "id": "bRMQb_pJm6-d"
   },
   "source": [
    "Eseguire le celle sottostanti all'inizio di un nuovo notebook."
   ]
  },
  {
   "cell_type": "code",
   "execution_count": null,
   "metadata": {
    "colab": {
     "base_uri": "https://localhost:8080/"
    },
    "id": "NKBZOFJUlc20",
    "outputId": "feb00549-7cf8-4814-f2e0-b0899a696757"
   },
   "outputs": [
    {
     "name": "stdout",
     "output_type": "stream",
     "text": [
      "\u001b[33m\r",
      "0% [Working]\u001b[0m\r",
      "            \r",
      "Get:1 http://security.ubuntu.com/ubuntu jammy-security InRelease [110 kB]\n",
      "\u001b[33m\r",
      "0% [Connecting to archive.ubuntu.com] [1 InRelease 12.7 kB/110 kB 12%] [Connect\u001b[0m\u001b[33m\r",
      "0% [Connecting to archive.ubuntu.com] [Connected to cloud.r-project.org (108.13\u001b[0m\r",
      "                                                                               \r",
      "Get:2 https://cloud.r-project.org/bin/linux/ubuntu jammy-cran40/ InRelease [3,626 B]\n",
      "\u001b[33m\r",
      "0% [Connecting to archive.ubuntu.com (185.125.190.39)] [Connected to ppa.launch\u001b[0m\r",
      "                                                                               \r",
      "Hit:3 https://developer.download.nvidia.com/compute/cuda/repos/ubuntu2204/x86_64  InRelease\n",
      "Hit:4 http://archive.ubuntu.com/ubuntu jammy InRelease\n",
      "Get:5 http://archive.ubuntu.com/ubuntu jammy-updates InRelease [119 kB]\n",
      "Get:6 http://security.ubuntu.com/ubuntu jammy-security/universe amd64 Packages [1,083 kB]\n",
      "Hit:7 https://ppa.launchpadcontent.net/c2d4u.team/c2d4u4.0+/ubuntu jammy InRelease\n",
      "Hit:8 https://ppa.launchpadcontent.net/deadsnakes/ppa/ubuntu jammy InRelease\n",
      "Get:9 http://security.ubuntu.com/ubuntu jammy-security/restricted amd64 Packages [2,389 kB]\n",
      "Hit:10 https://ppa.launchpadcontent.net/graphics-drivers/ppa/ubuntu jammy InRelease\n",
      "Get:11 http://security.ubuntu.com/ubuntu jammy-security/main amd64 Packages [1,851 kB]\n",
      "Hit:12 http://archive.ubuntu.com/ubuntu jammy-backports InRelease\n",
      "Hit:13 https://ppa.launchpadcontent.net/ubuntugis/ppa/ubuntu jammy InRelease\n",
      "Get:14 http://archive.ubuntu.com/ubuntu jammy-updates/main amd64 Packages [2,122 kB]\n",
      "Get:15 http://archive.ubuntu.com/ubuntu jammy-updates/restricted amd64 Packages [2,462 kB]\n",
      "Fetched 10.1 MB in 3s (3,307 kB/s)\n",
      "Reading package lists... Done\n",
      "Building dependency tree... Done\n",
      "Reading state information... Done\n",
      "45 packages can be upgraded. Run 'apt list --upgradable' to see them.\n",
      "Reading package lists... Done\n",
      "Building dependency tree... Done\n",
      "Reading state information... Done\n",
      "wget is already the newest version (1.21.2-2ubuntu1).\n",
      "curl is already the newest version (7.81.0-1ubuntu1.16).\n",
      "unzip is already the newest version (6.0-26ubuntu3.2).\n",
      "0 upgraded, 0 newly installed, 0 to remove and 45 not upgraded.\n",
      "--2024-05-21 14:41:50--  http://archive.ubuntu.com/ubuntu/pool/main/libu/libu2f-host/libu2f-udev_1.1.4-1_all.deb\n",
      "Resolving archive.ubuntu.com (archive.ubuntu.com)... 185.125.190.39, 91.189.91.81, 185.125.190.36, ...\n",
      "Connecting to archive.ubuntu.com (archive.ubuntu.com)|185.125.190.39|:80... connected.\n",
      "HTTP request sent, awaiting response... 200 OK\n",
      "Length: 3708 (3.6K) [application/x-debian-package]\n",
      "Saving to: ‘libu2f-udev_1.1.4-1_all.deb’\n",
      "\n",
      "libu2f-udev_1.1.4-1 100%[===================>]   3.62K  --.-KB/s    in 0s      \n",
      "\n",
      "2024-05-21 14:41:50 (258 MB/s) - ‘libu2f-udev_1.1.4-1_all.deb’ saved [3708/3708]\n",
      "\n",
      "Selecting previously unselected package libu2f-udev.\n",
      "(Reading database ... 121918 files and directories currently installed.)\n",
      "Preparing to unpack libu2f-udev_1.1.4-1_all.deb ...\n",
      "Unpacking libu2f-udev (1.1.4-1) ...\n",
      "Setting up libu2f-udev (1.1.4-1) ...\n",
      "--2024-05-21 14:41:51--  https://dl.google.com/linux/direct/google-chrome-stable_current_amd64.deb\n",
      "Resolving dl.google.com (dl.google.com)... 172.253.122.136, 172.253.122.93, 172.253.122.91, ...\n",
      "Connecting to dl.google.com (dl.google.com)|172.253.122.136|:443... connected.\n",
      "HTTP request sent, awaiting response... 200 OK\n",
      "Length: 107627312 (103M) [application/x-debian-package]\n",
      "Saving to: ‘google-chrome-stable_current_amd64.deb’\n",
      "\n",
      "google-chrome-stabl 100%[===================>] 102.64M   202MB/s    in 0.5s    \n",
      "\n",
      "2024-05-21 14:41:51 (202 MB/s) - ‘google-chrome-stable_current_amd64.deb’ saved [107627312/107627312]\n",
      "\n",
      "Selecting previously unselected package google-chrome-stable.\n",
      "(Reading database ... 121922 files and directories currently installed.)\n",
      "Preparing to unpack google-chrome-stable_current_amd64.deb ...\n",
      "Unpacking google-chrome-stable (125.0.6422.60-1) ...\n",
      "\u001b[1mdpkg:\u001b[0m dependency problems prevent configuration of google-chrome-stable:\n",
      " google-chrome-stable depends on libvulkan1; however:\n",
      "  Package libvulkan1 is not installed.\n",
      "\n",
      "\u001b[1mdpkg:\u001b[0m error processing package google-chrome-stable (--install):\n",
      " dependency problems - leaving unconfigured\n",
      "Processing triggers for man-db (2.10.2-1) ...\n",
      "Errors were encountered while processing:\n",
      " google-chrome-stable\n",
      "--2024-05-21 14:42:06--  https://chromedriver.storage.googleapis.com/114.0.5735.90/chromedriver_linux64.zip\n",
      "Resolving chromedriver.storage.googleapis.com (chromedriver.storage.googleapis.com)... 172.253.115.207, 172.253.122.207, 142.251.179.207, ...\n",
      "Connecting to chromedriver.storage.googleapis.com (chromedriver.storage.googleapis.com)|172.253.115.207|:443... connected.\n",
      "HTTP request sent, awaiting response... 200 OK\n",
      "Length: 7407250 (7.1M) [application/zip]\n",
      "Saving to: ‘/tmp/chromedriver_linux64.zip’\n",
      "\n",
      "chromedriver_linux6 100%[===================>]   7.06M  --.-KB/s    in 0.04s   \n",
      "\n",
      "2024-05-21 14:42:06 (167 MB/s) - ‘/tmp/chromedriver_linux64.zip’ saved [7407250/7407250]\n",
      "\n",
      "Archive:  /tmp/chromedriver_linux64.zip\n",
      "  inflating: /tmp/chromedriver       \n",
      "  inflating: /tmp/LICENSE.chromedriver  \n",
      "Collecting selenium\n",
      "  Downloading selenium-4.21.0-py3-none-any.whl (9.5 MB)\n",
      "\u001b[2K     \u001b[90m━━━━━━━━━━━━━━━━━━━━━━━━━━━━━━━━━━━━━━━━\u001b[0m \u001b[32m9.5/9.5 MB\u001b[0m \u001b[31m61.6 MB/s\u001b[0m eta \u001b[36m0:00:00\u001b[0m\n",
      "\u001b[?25hRequirement already satisfied: urllib3[socks]<3,>=1.26 in /usr/local/lib/python3.10/dist-packages (from selenium) (2.0.7)\n",
      "Collecting trio~=0.17 (from selenium)\n",
      "  Downloading trio-0.25.1-py3-none-any.whl (467 kB)\n",
      "\u001b[2K     \u001b[90m━━━━━━━━━━━━━━━━━━━━━━━━━━━━━━━━━━━━━━━━\u001b[0m \u001b[32m467.7/467.7 kB\u001b[0m \u001b[31m32.8 MB/s\u001b[0m eta \u001b[36m0:00:00\u001b[0m\n",
      "\u001b[?25hCollecting trio-websocket~=0.9 (from selenium)\n",
      "  Downloading trio_websocket-0.11.1-py3-none-any.whl (17 kB)\n",
      "Requirement already satisfied: certifi>=2021.10.8 in /usr/local/lib/python3.10/dist-packages (from selenium) (2024.2.2)\n",
      "Requirement already satisfied: typing_extensions>=4.9.0 in /usr/local/lib/python3.10/dist-packages (from selenium) (4.11.0)\n",
      "Requirement already satisfied: attrs>=23.2.0 in /usr/local/lib/python3.10/dist-packages (from trio~=0.17->selenium) (23.2.0)\n",
      "Requirement already satisfied: sortedcontainers in /usr/local/lib/python3.10/dist-packages (from trio~=0.17->selenium) (2.4.0)\n",
      "Requirement already satisfied: idna in /usr/local/lib/python3.10/dist-packages (from trio~=0.17->selenium) (3.7)\n",
      "Collecting outcome (from trio~=0.17->selenium)\n",
      "  Downloading outcome-1.3.0.post0-py2.py3-none-any.whl (10 kB)\n",
      "Requirement already satisfied: sniffio>=1.3.0 in /usr/local/lib/python3.10/dist-packages (from trio~=0.17->selenium) (1.3.1)\n",
      "Requirement already satisfied: exceptiongroup in /usr/local/lib/python3.10/dist-packages (from trio~=0.17->selenium) (1.2.1)\n",
      "Collecting wsproto>=0.14 (from trio-websocket~=0.9->selenium)\n",
      "  Downloading wsproto-1.2.0-py3-none-any.whl (24 kB)\n",
      "Requirement already satisfied: pysocks!=1.5.7,<2.0,>=1.5.6 in /usr/local/lib/python3.10/dist-packages (from urllib3[socks]<3,>=1.26->selenium) (1.7.1)\n",
      "Collecting h11<1,>=0.9.0 (from wsproto>=0.14->trio-websocket~=0.9->selenium)\n",
      "  Downloading h11-0.14.0-py3-none-any.whl (58 kB)\n",
      "\u001b[2K     \u001b[90m━━━━━━━━━━━━━━━━━━━━━━━━━━━━━━━━━━━━━━━━\u001b[0m \u001b[32m58.3/58.3 kB\u001b[0m \u001b[31m7.0 MB/s\u001b[0m eta \u001b[36m0:00:00\u001b[0m\n",
      "\u001b[?25hInstalling collected packages: outcome, h11, wsproto, trio, trio-websocket, selenium\n",
      "Successfully installed h11-0.14.0 outcome-1.3.0.post0 selenium-4.21.0 trio-0.25.1 trio-websocket-0.11.1 wsproto-1.2.0\n"
     ]
    },
    {
     "data": {
      "text/plain": []
     },
     "execution_count": 1,
     "metadata": {},
     "output_type": "execute_result"
    }
   ],
   "source": [
    "# Set up for running selenium in Google Colab\n",
    "## You don't need to run this code if you do it in Jupyter notebook, or other local Python setting\n",
    "%%shell\n",
    "sudo apt -y update\n",
    "sudo apt install -y wget curl unzip\n",
    "wget http://archive.ubuntu.com/ubuntu/pool/main/libu/libu2f-host/libu2f-udev_1.1.4-1_all.deb\n",
    "dpkg -i libu2f-udev_1.1.4-1_all.deb\n",
    "wget https://dl.google.com/linux/direct/google-chrome-stable_current_amd64.deb\n",
    "dpkg -i google-chrome-stable_current_amd64.deb\n",
    "CHROME_DRIVER_VERSION=`curl -sS chromedriver.storage.googleapis.com/LATEST_RELEASE`\n",
    "wget -N https://chromedriver.storage.googleapis.com/$CHROME_DRIVER_VERSION/chromedriver_linux64.zip -P /tmp/\n",
    "unzip -o /tmp/chromedriver_linux64.zip -d /tmp/\n",
    "chmod +x /tmp/chromedriver\n",
    "mv /tmp/chromedriver /usr/local/bin/chromedriver\n",
    "pip install selenium"
   ]
  },
  {
   "cell_type": "code",
   "execution_count": null,
   "metadata": {
    "colab": {
     "base_uri": "https://localhost:8080/"
    },
    "collapsed": true,
    "id": "yjA_1K6vlQpF",
    "jupyter": {
     "outputs_hidden": true
    },
    "outputId": "dcb36247-dd40-429f-8965-57d213ca3156",
    "scrolled": true
   },
   "outputs": [
    {
     "name": "stdout",
     "output_type": "stream",
     "text": [
      "Collecting chromedriver-autoinstaller\n",
      "  Downloading chromedriver_autoinstaller-0.6.4-py3-none-any.whl (7.6 kB)\n",
      "Requirement already satisfied: packaging>=23.1 in /usr/local/lib/python3.10/dist-packages (from chromedriver-autoinstaller) (24.0)\n",
      "Installing collected packages: chromedriver-autoinstaller\n",
      "Successfully installed chromedriver-autoinstaller-0.6.4\n"
     ]
    }
   ],
   "source": [
    "!pip install chromedriver-autoinstaller\n",
    "\n",
    "import sys\n",
    "sys.path.insert(0,'/usr/lib/chromium-browser/chromedriver')\n",
    "\n",
    "from selenium import webdriver\n",
    "import chromedriver_autoinstaller\n",
    "\n",
    "# setup chrome options\n",
    "chrome_options = webdriver.ChromeOptions()\n",
    "chrome_options.add_argument('--headless') # ensure GUI is off\n",
    "chrome_options.add_argument('--no-sandbox')\n",
    "chrome_options.add_argument('--disable-dev-shm-usage')\n",
    "\n",
    "# set path to chromedriver as per your configuration\n",
    "chromedriver_autoinstaller.install()\n",
    "\n",
    "# set up the webdriver\n",
    "driver = webdriver.Chrome(options=chrome_options)"
   ]
  },
  {
   "cell_type": "markdown",
   "metadata": {
    "id": "4hARtdLjmJba"
   },
   "source": [
    "D'ora in poi, l'oggetto `driver` può essere usato durante tutto il resto del codice."
   ]
  },
  {
   "cell_type": "markdown",
   "metadata": {
    "id": "1KOu-OaNmWnI"
   },
   "source": [
    "**Example**"
   ]
  },
  {
   "cell_type": "code",
   "execution_count": null,
   "metadata": {
    "id": "i46OFheemuHl"
   },
   "outputs": [],
   "source": [
    "from selenium.webdriver.common.by import By"
   ]
  },
  {
   "cell_type": "code",
   "execution_count": null,
   "metadata": {
    "id": "DaI6hGqIlSI3"
   },
   "outputs": [],
   "source": [
    "page = 2\n",
    "\n",
    "url = \"http://quotes.toscrape.com/js/page/\" + str(page) + \"/\""
   ]
  },
  {
   "cell_type": "code",
   "execution_count": null,
   "metadata": {
    "id": "LEY8jg_Jl0km"
   },
   "outputs": [],
   "source": [
    "driver.get(url)"
   ]
  },
  {
   "cell_type": "code",
   "execution_count": null,
   "metadata": {
    "colab": {
     "base_uri": "https://localhost:8080/"
    },
    "id": "kxQcLmcpl3tg",
    "outputId": "65702a29-92b2-4b9f-9bee-39735958b011"
   },
   "outputs": [
    {
     "data": {
      "text/plain": [
       "[<selenium.webdriver.remote.webelement.WebElement (session=\"e9553a6afaaf9e7263ef08543c4774ac\", element=\"f.0050FBEF1DAE947FE18E485AD5637D58.d.DD99E6179CD9F2EDCF4826DC2CC17879.e.11\")>,\n",
       " <selenium.webdriver.remote.webelement.WebElement (session=\"e9553a6afaaf9e7263ef08543c4774ac\", element=\"f.0050FBEF1DAE947FE18E485AD5637D58.d.DD99E6179CD9F2EDCF4826DC2CC17879.e.12\")>,\n",
       " <selenium.webdriver.remote.webelement.WebElement (session=\"e9553a6afaaf9e7263ef08543c4774ac\", element=\"f.0050FBEF1DAE947FE18E485AD5637D58.d.DD99E6179CD9F2EDCF4826DC2CC17879.e.13\")>,\n",
       " <selenium.webdriver.remote.webelement.WebElement (session=\"e9553a6afaaf9e7263ef08543c4774ac\", element=\"f.0050FBEF1DAE947FE18E485AD5637D58.d.DD99E6179CD9F2EDCF4826DC2CC17879.e.14\")>,\n",
       " <selenium.webdriver.remote.webelement.WebElement (session=\"e9553a6afaaf9e7263ef08543c4774ac\", element=\"f.0050FBEF1DAE947FE18E485AD5637D58.d.DD99E6179CD9F2EDCF4826DC2CC17879.e.15\")>,\n",
       " <selenium.webdriver.remote.webelement.WebElement (session=\"e9553a6afaaf9e7263ef08543c4774ac\", element=\"f.0050FBEF1DAE947FE18E485AD5637D58.d.DD99E6179CD9F2EDCF4826DC2CC17879.e.16\")>,\n",
       " <selenium.webdriver.remote.webelement.WebElement (session=\"e9553a6afaaf9e7263ef08543c4774ac\", element=\"f.0050FBEF1DAE947FE18E485AD5637D58.d.DD99E6179CD9F2EDCF4826DC2CC17879.e.17\")>,\n",
       " <selenium.webdriver.remote.webelement.WebElement (session=\"e9553a6afaaf9e7263ef08543c4774ac\", element=\"f.0050FBEF1DAE947FE18E485AD5637D58.d.DD99E6179CD9F2EDCF4826DC2CC17879.e.18\")>,\n",
       " <selenium.webdriver.remote.webelement.WebElement (session=\"e9553a6afaaf9e7263ef08543c4774ac\", element=\"f.0050FBEF1DAE947FE18E485AD5637D58.d.DD99E6179CD9F2EDCF4826DC2CC17879.e.19\")>,\n",
       " <selenium.webdriver.remote.webelement.WebElement (session=\"e9553a6afaaf9e7263ef08543c4774ac\", element=\"f.0050FBEF1DAE947FE18E485AD5637D58.d.DD99E6179CD9F2EDCF4826DC2CC17879.e.20\")>]"
      ]
     },
     "execution_count": 9,
     "metadata": {},
     "output_type": "execute_result"
    }
   ],
   "source": [
    "quotes = driver.find_elements(By.CLASS_NAME, \"text\")\n",
    "quotes"
   ]
  },
  {
   "cell_type": "code",
   "execution_count": null,
   "metadata": {
    "colab": {
     "base_uri": "https://localhost:8080/",
     "height": 139
    },
    "id": "314vU0F4l5nc",
    "outputId": "df3f0637-c6bb-4479-b485-0e055593e1a0"
   },
   "outputs": [
    {
     "data": {
      "application/vnd.google.colaboratory.intrinsic+json": {
       "type": "string"
      },
      "text/plain": [
       "\"“This life is what you make it. No matter what, you're going to mess up sometimes, it's a universal truth. But the good part is you get to decide how you're going to mess it up. Girls will be your friends - they'll act like it anyway. But just remember, some come, some go. The ones that stay with you through everything - they're your true best friends. Don't let go of them. Also remember, sisters make the best friends in the world. As for lovers, well, they'll come and go too. And baby, I hate to say it, most of them - actually pretty much all of them are going to break your heart, but you can't give up because if you give up, you'll never find your soulmate. You'll never find that half who makes you whole and that goes for everything. Just because you fail once, doesn't mean you're gonna fail at everything. Keep trying, hold on, and always, always, always believe in yourself, because if you don't, then who will, sweetie? So keep your head high, keep your chin up, and most importantly, keep smiling, because life's a beautiful thing and there's so much to smile about.”\""
      ]
     },
     "execution_count": 10,
     "metadata": {},
     "output_type": "execute_result"
    }
   ],
   "source": [
    "quotes[0].text"
   ]
  },
  {
   "cell_type": "code",
   "execution_count": null,
   "metadata": {
    "id": "VT9BP1UcmvML"
   },
   "outputs": [],
   "source": []
  }
 ],
 "metadata": {
  "colab": {
   "provenance": []
  },
  "kernelspec": {
   "display_name": "Python 3 (ipykernel)",
   "language": "python",
   "name": "python3"
  },
  "language_info": {
   "codemirror_mode": {
    "name": "ipython",
    "version": 3
   },
   "file_extension": ".py",
   "mimetype": "text/x-python",
   "name": "python",
   "nbconvert_exporter": "python",
   "pygments_lexer": "ipython3",
   "version": "3.9.13"
  }
 },
 "nbformat": 4,
 "nbformat_minor": 4
}
